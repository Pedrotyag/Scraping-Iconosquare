{
 "cells": [
  {
   "cell_type": "code",
   "execution_count": 7,
   "metadata": {},
   "outputs": [],
   "source": [
    "import re\n",
    "from urllib.parse import urlparse, parse_qs"
   ]
  },
  {
   "cell_type": "code",
   "execution_count": 8,
   "metadata": {},
   "outputs": [
    {
     "name": "stdout",
     "output_type": "stream",
     "text": [
      "https://api.iconosquare.com/file-downloader/exports/ZXhwb3J0cy9jb=21tZW50cy8yNzIwMzEzLzE2MDA4NjQvY29tbWVudHNfZXhwb3J0c19ldXNvdWFtb21fMjAyMzA0=MzAxOTM3NDlfNjQ0ZWMzOGQ0ZTA2NC54bHN4\n"
     ]
    }
   ],
   "source": [
    "text = \"['Content-Type: text/plain; charset=utf-8\\nContent-Transfer-Encoding: quoted-printable\\n\\n[iconosquare](https://pro.iconosquare.com/)\\n\\nDear Amom,\\nClick below t=\\no download the comments export for your Instagram account @eusouamom\\n\\n[=\\nDownload](https://api.iconosquare.com/file-downloader/exports/ZXhwb3J0cy9jb=\\n21tZW50cy8yNzIwMzEzLzE2MDA4NjQvY29tbWVudHNfZXhwb3J0c19ldXNvdWFtb21fMjAyMzA0=\\nMzAxOTM3NDlfNjQ0ZWMzOGQ0ZTA2NC54bHN4)\\nThe Iconosquare team\\n\\n[instagra=\\nm](https://www.instagram.com/iconosquare/)\\n\\n[facebook](https://www.face=\\nbook.com/Iconosquare/)\\n\\n[twitter](https://twitter.com/iconosquare)\\n=\\n\\n[linkedin](https://www.linkedin.com/company/iconosquare)\\n\\n[pinterest=\\n](https://www.pinterest.fr/iconosquare/)\\n\\n[youtube](https://www.youtube=\\n.com/iconosquare)\\n\\n[tiktok](https://vm.tiktok.com/ZMLNhuFA6/)\\n\\n[Ter=\\nms of use](https://pro.iconosquare.com/terms-of-service)\\n=C2=A9 2023 Icon=\\nosquare - All rights reserved\\nMade in Limoges, Limousin, FR.\\n\\nThis is=\\n an automatically generated email, please do not reply to it. This email ad=\\ndress is not monitored. If you have any questions, visit our [Support cente=\\nr](https://pro.iconosquare.com/contact).']\"\n",
    "\n",
    "pattern = r'(https://api\\.iconosquare\\.com/[^)]+)'\n",
    "matches = re.findall(pattern, text)\n",
    "\n",
    "for match in matches:\n",
    "    parsed_url = urlparse(match)\n",
    "    print(parsed_url.geturl())"
   ]
  },
  {
   "cell_type": "code",
   "execution_count": 1,
   "metadata": {},
   "outputs": [
    {
     "name": "stdout",
     "output_type": "stream",
     "text": [
      "{'Date': 'Mon, 01 May 2023 22:41:27 GMT', 'Content-Type': 'application/vnd.openxmlformats-officedocument.spreadsheetml.sheet', 'Content-Length': '19483', 'Connection': 'keep-alive', 'Server': 'nginx/1.23.4', 'Content-Disposition': 'attachment; filename=comments_exports_eusouamom_20230430193749_644ec38d4e064.xlsx', 'Cache-Control': 'no-cache, private', 'Set-Cookie': 'XSRF-TOKEN=eyJpdiI6Ilc0Q2Y0Qnlhb09jUVRaZDkycnM5VUE9PSIsInZhbHVlIjoib0U2dTVOUmYxZXJMQTdCRC9LZW1aZ0ozbHlyTFBFM0FTdkpOMWxDRjFienhBRGVqKzhWdDNaY04wUlRVZmVDandBMTBLSWRrZ3JWamhDcFNxa2dPaFQzRUsrTHhOM3VXY0lXL3lEZDd0ZVBFdy95c3BwRVQrUGhRSUQ0QmZYeVEiLCJtYWMiOiIyYzQ1OTY4MzVjNTZhNzY0YjAwMzU0ODU2N2ZjOTI5OGE2YjQ2YWMwZWIzNGQ5M2IxYzZiMTE4YTdhODgyYTdmIiwidGFnIjoiIn0%3D; expires=Wed, 31 May 2023 22:41:27 GMT; Max-Age=2592000; path=/; domain=.iconosquare.com; secure; samesite=lax, iconosquare_session=eyJpdiI6IjZ2b0FRUStUemdoeW8reXNxUWMrNEE9PSIsInZhbHVlIjoiVW1WK2lJOTRWWTJaWnQrOEVEYlFUTFJFU1BlL0Z0clhMSkRDbkRkV0k5dEpTZjU5c0pIK2FuYlc0VzBzMHBaS1R5bGdXeVFLK2xyakZCSzlmb3d3T0VtelkyVWsxa08wejJjOVk1ZmZVM01HWG9MRVJRVFY0ejJtOG92WktmWE8iLCJtYWMiOiI3NmQwZWI3NjJhZjk4MGQ2NDkzYzg5NzQ0MjkwZWYwZjRmNmVkNDI2NDViN2I2OGZhMTZlNGUyZWI5NzdjZGZmIiwidGFnIjoiIn0%3D; expires=Wed, 31 May 2023 22:41:27 GMT; Max-Age=2592000; path=/; domain=.iconosquare.com; secure; httponly; samesite=lax'}\n"
     ]
    }
   ],
   "source": [
    "\n",
    "import requests\n",
    "# Define the remote file to retrieve\n",
    "remote_url = 'https://api.iconosquare.com/file-downloader/exports/ZXhwb3J0cy9jb=21tZW50cy8yNzIwMzEzLzE2MDA4NjQvY29tbWVudHNfZXhwb3J0c19ldXNvdWFtb21fMjAyMzA0=MzAxOTM3NDlfNjQ0ZWMzOGQ0ZTA2NC54bHN4'\n",
    "# Define the local filename to save data\n",
    "local_file = 'local_copy.txt'\n",
    "# Make http request for remote file data\n",
    "data = requests.get(remote_url)\n",
    "\n",
    "print(data.headers)\n",
    "# Save file data to local copy\n",
    "#with open(local_file, 'wb')as file:\n",
    "#file.write(data.content)"
   ]
  },
  {
   "cell_type": "code",
   "execution_count": 11,
   "metadata": {},
   "outputs": [],
   "source": [
    "from csv import writer\n",
    "\n",
    "account = 'asdasd' + '\\n'\n",
    "\n",
    "with open('link.csv', \"a\") as f:\n",
    "    f.write(account)"
   ]
  },
  {
   "cell_type": "code",
   "execution_count": 2,
   "metadata": {},
   "outputs": [
    {
     "data": {
      "text/plain": [
       "['😂😂😂😂😂',\n",
       " 'Me too',\n",
       " 'E esse barbeador é otimo kk',\n",
       " 'Meu deputado 👏👏👏👏👏',\n",
       " 'Eu',\n",
       " '😂😂😂 sem comentário.',\n",
       " 'E a gente que é mulher tem que andar com absorvente na bolsa. Às vezes troco de bolsa e quando preciso do absorvente ficou na bolsa em casa kkkk. Ai tem que pedir da amiga 🤣',\n",
       " 'Fazendo propaganda da Gillette 😂😂😂😂',\n",
       " 'Amom tu tá metido com publi amom?',\n",
       " 'Esse comercial 0800 fortíssimo aí haha',\n",
       " 'Faz a barba a laser, dai demora mais para crescer, nem vai se preocupar.😂😂😂😂',\n",
       " 'Kkkk😂😂😂😂 esse Amon',\n",
       " '😂',\n",
       " 'A Publi de milhões',\n",
       " 'Acho que tem que aderir a um novo visu deputado, deixa o barbão crescer !',\n",
       " '@eusouamom Sempre Preparado 👏👏😂',\n",
       " '@eusouamom precisa  de uma ajuda de vc😢',\n",
       " '@gillette_brasil está em todo canto😏',\n",
       " 'Kkkkkkkkkkkkkkkk moço',\n",
       " 'Se fosse o barbeador Probak Amarelo tinha achado 😂',\n",
       " 'KKKKKKKKKKKKK',\n",
       " 'Harry vigiaaaa 😂😂',\n",
       " '😂😂😂 gente como a gente',\n",
       " 'Mais o que chama atenção a mochila não passou pelo raio X, como passou um aparelho de barba ( Gillette e Marca . kkkkk).',\n",
       " 'Pô, gillete não, mano',\n",
       " 'Kkkkkkk distraído?! Me chamou ? Kkk eu sou super distraída #TMJ 😂',\n",
       " 'Parabéns pelo grande trabalho que você tem feito em favor do Amazonas e do Brasil 🇧🇷!\\nVocê representa um futuro que já chegou!\\nSelva!',\n",
       " 'Resposta: @coronel.menezes @eusouamom , recentemente foi dada uma resposta a convocação dos aprovados no último concurso para o Corpo de Bombeiros do Amazonas , que foi “aguardar o final do primeiro quadrimestre, para saber como ficará as finanças do estado” .  Estamos , na verdade , imersos no esquecimento pelo visto .  Faz praticamente 4 meses que o concurso foi homologado . Não ouvimos vozes nem atuações significativas daqueles que defenderam a bandeira da segurança pública assim como , no âmbito da defesa dos animais , a @joanadarcam fez para defender a capivara. Não temos nada oficial até hoje. A necessidade de pessoas na corporação do CBM é urgente  devido à falta de efetivo . E pior .. basta reconhecer que faz mais de 10 anos que não há concurso para renovação de pessoal (praças e oficiais) .',\n",
       " 'Tá precisando de assessoria? Estamos aí…',\n",
       " 'Mano nem tinha barba k😂',\n",
       " 'Feio? Nem assim conseguiria ficar feio 😅',\n",
       " 'Amom... Sr teria como ajudar nos que fomos aprovados na semsa.  Porém existe rda no nosso lugar, pois prefeito renovou contratos com eles.  E esqueceu de chamar o que ele prometeu em entrevista..',\n",
       " '😂',\n",
       " 'Propaganda do Mach 3 de graça 😂😂😂',\n",
       " 'Agora que notei que o guri tem uns pelinho no queixo 😂😂😂',\n",
       " 'Eu só não entendo esse silêncio do Amo,sobre o que está acontecendo com os funcionários da saúde em Manaus',\n",
       " 'Resposta: @eusouamom eh exatamente isso',\n",
       " 'Resposta: @hannymaysa não há silêncio. Eu me pronunciei mais de uma vez sobre o caso nos últimos meses. Só que isso depende muito mais dos deputados estaduais do que de mim, deputado federal. Existe uma divisão de tarefas e competências que me limita.',\n",
       " 'Gilete aí é quanto?',\n",
       " 'Resposta: @eusouamom Égua! Super faturado isso aí 🤣🤣',\n",
       " 'Resposta: @andre_catricio ele comprou quando começou a crescer a barba, até hoje ainda tava perdido na mochila 😂',\n",
       " 'Resposta: @andre_catricio uns 100 contos…',\n",
       " '😂😂😂😂😂😂 acontece',\n",
       " '😂',\n",
       " '🤭😂😂😂😂😂',\n",
       " 'Olha ele o @eusouamom  mostrando o barbeador e aproveitando a oportunidade fazendo o comercial da @gillette_brasil pega a visão 😊👏🏼👏🏼👏🏼👏🏼',\n",
       " 'Play boy🔥',\n",
       " 'Por pouco ele não tropeçou na braba dele 👏😮😂',\n",
       " 'Uma das empresas que mais produzem plástico no distrito industrial de Manaus:(',\n",
       " '😂😂😂 eu sou o distraído em pessoa.',\n",
       " 'Boa noite Deputado Amom\\nMinha família e eu temos grande admiração pelo trabalho 😍\\nEu Izabel Mota, mãe de um atleta Amazonense de karatê \\nVenho aqui pedir seu apoio aos atletas de karatê do estado do Amazonas, na ajuda de ônibus para levar eles (crianças, adolescentes e jovens/ ) para o campeonato Etapa Boa VISTA-RR.\\nQue acontecerá nos dias 10/05 a 14/05\\nE um pedido de uma mãe que ver o projeto do Sensei Douglas Ceará que dedica uma parte de seu tempo sem pedir nada financeiro em troca, para ensinar, treinar eles, .\\nConvido conhece a página deles 😍.\\nSem mais Deputado\\nNo seu aguardo\\nMeu telefone\\nColoquei no direct\\nDeus abençoe o senhor',\n",
       " 'Ainda bem que foi encontrado pronto pra fazer a barba 😂',\n",
       " 'Quem nunca?',\n",
       " '😂😂 .. Sexto sentido está em dia',\n",
       " 'O vey com duas passada já tira tudinho kkkkkkj MT bom',\n",
       " '😂',\n",
       " '🙄',\n",
       " '😂😂😂 não se preocupar vc estava lindo em todas as ocasiões vc é uma graça desculpa 😂😂😂😂',\n",
       " '😂😂😂',\n",
       " 'Q loucura algumas pessoas reclamando da SUA barba 😂 ao invés de olhar pra vida DELES MESMOS',\n",
       " 'Gillete produzido no Polo industrial de Manaus! P&G',\n",
       " '😂😂',\n",
       " 'Tem nem barba Amom 😂😂😂',\n",
       " 'Fazendo a publi da gilete',\n",
       " 'Resposta: @eusouamom na próxima é só agendar uma barboterapia comigo rsrs fazendo minha propaganda, se chegar com dores da viagem sou massoterapeuta e esteticista ( outra publi) rsrs',\n",
       " 'Resposta: @callgabriel quem me dera, só quis descontrair',\n",
       " 'Acontece 😂😂',\n",
       " 'Ahhh 😍😂 mas tava perfeito nosso Harry de todo jeito.',\n",
       " '😂😂',\n",
       " 'Na minha cabeça eu sou assim SKSKKSKS',\n",
       " 'Desculpa  só  uso barbeador  elétrico  e dos bons. kkkkkk',\n",
       " '😂😂😂😂',\n",
       " 'Tá bom lenhador',\n",
       " 'Gillete fusion 5',\n",
       " 'Hahahaa',\n",
       " 'O legítimo persegue chique @eusouamom 😂😂😂😂😂😂😂😂',\n",
       " '😂😂😂',\n",
       " 'Não creio skskskskk',\n",
       " '😂😂😂 correria e esqueci até de tirar a Barba',\n",
       " '😂😂😂😂',\n",
       " 'E tinha barba???',\n",
       " 'Resposta: @eusouamom É brincadeira!!!😂',\n",
       " 'Resposta: @eusouamom kkkkkk',\n",
       " 'Resposta: @paula_cruz0931 na minha cabeça, sim',\n",
       " '😂😂😂😂',\n",
       " '@proctergamble @pgcareersbr',\n",
       " 'Tabom Tony Ramos.. kkk',\n",
       " 'Resposta: @costa.mess 😂',\n",
       " 'Ainda bem que não esqueceu a cueca',\n",
       " 'Made in Manaus',\n",
       " 'tdah, normal po kkkk',\n",
       " 'A vida não é fácil 😂',\n",
       " '😂😂😂',\n",
       " 'Kkkkkkkkkkkkkkkkk',\n",
       " 'Vc e engraçado viu, nem parece k tem barba😂😂😂😂😂',\n",
       " 'Não tá fácil pra ngm né 😂😂 @eusouamom',\n",
       " '😂😂',\n",
       " 'O melhor barbeador 👏👏',\n",
       " '😂😂😂😂😂',\n",
       " 'Com essa quantidade de barba um Prestobarba da bic de 1 lâmina já dava kkkkk',\n",
       " 'Resposta: @rafael.casttroo kkkkkkk',\n",
       " 'Resposta: @rafael.casttroo 😂😂😂',\n",
       " 'Resposta: @rafael.casttroo 😂😂😂',\n",
       " '@gillette_brasil patrocina o omi',\n",
       " 'Corra atrás de recursos pro cetas tbm',\n",
       " 'ei, meu filho, do meu barbeador na minha mochila eu não esqueço JDHEKJEKEEJ continua com o ótimo trabalho, amom!',\n",
       " 'Beba água!',\n",
       " 'Os problemas que eu queria ter 😂',\n",
       " '😂🤣🤭',\n",
       " 'Os árabes e alguns países define a barba como sinônimo de autoridade,relaxe amom você está perfeito .',\n",
       " 'Sério isso 😂😂',\n",
       " '😂',\n",
       " '😂😂😂😂',\n",
       " 'barbeador mais bonito que eu',\n",
       " 'E vc tem barba é ? Kkk',\n",
       " 'E ainda é um mach3 tá ?',\n",
       " '😂😂',\n",
       " 'Bolsinha da hermione',\n",
       " 'Accio Barbeador @eusouamom ⚡🪄😂 #nossoharrymanaura',\n",
       " 'O AUGE😂😂😂😂',\n",
       " '😂😂',\n",
       " '🤣🤣🤣🤣',\n",
       " 'Acontece 😂',\n",
       " 'Apareceu do nada, não é a toa que te chamo de Harry Potter',\n",
       " 'Ahhhhhmon😂',\n",
       " '😂😂😂',\n",
       " '😂😂😂😂😂',\n",
       " 'Que barba mano? 😂😂😂',\n",
       " 'Resposta: @chico_avelino né kkkk',\n",
       " 'Resposta: @chico_avelino KKKKKKKKK',\n",
       " 'Resposta: @chico_avelino 😂😂😂😂😂',\n",
       " 'Olha ele, passando perrengue chique 😂😂',\n",
       " 'Resposta: @lauane_matosz 😅😅😅',\n",
       " 'Quando o homem tem preparo já pode ser chamado de Batman @eusouamom 😂',\n",
       " 'Resposta: @eusouamom é leviÔsa e nao leviosÁ!!😂',\n",
       " 'Resposta: @eusouamom o harry potter amazonense vem aí kkk',\n",
       " 'Resposta: @eusouamom no meu tempo o nome disso era “Macgiver” né @elzavitoriademello ?',\n",
       " 'Resposta: @eusouamom 😂😂😂😂',\n",
       " 'Resposta: @manu84fx quando as coisas aparecem do nada na mochila, pode considerar “feitiço”?',\n",
       " '@elaniabarross olha o barbeador',\n",
       " 'Resposta: @suammybarros e não são?',\n",
       " 'Resposta: @eusouamom é que só uso esse. Fiz a mulher comprar hj. Outro dia ela comprou errado achando q os mach 3 eram todos iguais 😂',\n",
       " 'Resposta: @suammybarros o que tem ele?',\n",
       " 'Essa gilete é muita boa pai',\n",
       " 'Resposta: @jario._ mar num é?',\n",
       " 'Deputado @eusouamom venha para o RJ. Precisamos de vossa excelência! Sou um grande fã seu! Forte abraço!!! ☺️👏🏾',\n",
       " 'Resposta: Boa 😜👏🏾👏🏾',\n",
       " 'Resposta: @joaopsilva5770 quando ele for nosso presidente , vc terá esse prazer kk',\n",
       " 'Resposta: A chapa tá quente por aqui kkkkkk. Deixa ele vir colocar ordem kakkakakaka.',\n",
       " 'Resposta: @joaopsilva5770 mano. Um dos pouco e (tbm raros) políticos que aqui no Amazonas pôde-se dizer que de fato é atuante e cumpre o que fala … n faça isso não @eusouamom kk o cara é nosso patrimônio @joaopsilva5770 .',\n",
       " 'Resposta: @joaopsilva5770 obrigado pelo carinho, seu João :)',\n",
       " '😂😂😂😂😂',\n",
       " 'Resposta: @eusouamom kkk põe chique, mas é por uma boa causa. Se a viagem tem objetivos econômicos para nosso país está valendo rsrsrs😂',\n",
       " 'Resposta: @gomesraffel esse foi o tal do “perrengue chique”…']"
      ]
     },
     "execution_count": 2,
     "metadata": {},
     "output_type": "execute_result"
    }
   ],
   "source": [
    "import pandas as pd\n",
    "\n",
    "df = pd.read_csv(\"comments_exports_eusouamom_20230504170352_6453e578c0c83\")\n",
    "\n",
    "df['Comment'].apply(lambda x : x.replace(\"Reply\", \"Resposta\")).to_list()"
   ]
  },
  {
   "cell_type": "code",
   "execution_count": null,
   "metadata": {},
   "outputs": [],
   "source": []
  },
  {
   "cell_type": "code",
   "execution_count": null,
   "metadata": {},
   "outputs": [],
   "source": []
  },
  {
   "cell_type": "code",
   "execution_count": null,
   "metadata": {},
   "outputs": [],
   "source": []
  },
  {
   "cell_type": "code",
   "execution_count": null,
   "metadata": {},
   "outputs": [],
   "source": [
    "https://api.iconosquare.com/file-downloader/exports/ZXhwb3J0cy9jb=21tZW50cy8yNzIwMzEzLzE2MDA4NjQvY29tbWVudHNfZXhwb3J0c19ldXNvdWFtb21fMjAyMzA1=MDIwMjA3MzVfNjQ1MDcwNjdmM2E4YS54bHN4"
   ]
  },
  {
   "cell_type": "code",
   "execution_count": 4,
   "metadata": {},
   "outputs": [
    {
     "ename": "URLError",
     "evalue": "<urlopen error unknown url type: blob>",
     "output_type": "error",
     "traceback": [
      "\u001b[1;31m---------------------------------------------------------------------------\u001b[0m",
      "\u001b[1;31mURLError\u001b[0m                                  Traceback (most recent call last)",
      "Cell \u001b[1;32mIn[4], line 8\u001b[0m\n\u001b[0;32m      6\u001b[0m fake_useragent \u001b[39m=\u001b[39m \u001b[39m'\u001b[39m\u001b[39mMozilla/5.0 (iPad; CPU OS 6_0 like Mac OS X) AppleWebKit/536.26 (KHTML, like Gecko) Version/6.0 Mobile/10A5355d Safari/8536.25\u001b[39m\u001b[39m'\u001b[39m\n\u001b[0;32m      7\u001b[0m r \u001b[39m=\u001b[39m request\u001b[39m.\u001b[39mRequest(url, headers\u001b[39m=\u001b[39m{\u001b[39m'\u001b[39m\u001b[39mUser-Agent\u001b[39m\u001b[39m'\u001b[39m: fake_useragent})\n\u001b[1;32m----> 8\u001b[0m f \u001b[39m=\u001b[39m request\u001b[39m.\u001b[39;49murlopen(r)\n\u001b[0;32m     10\u001b[0m \u001b[39m# print or write\u001b[39;00m\n\u001b[0;32m     11\u001b[0m \u001b[39mprint\u001b[39m(f\u001b[39m.\u001b[39mread())\n",
      "File \u001b[1;32mC:\\Program Files\\WindowsApps\\PythonSoftwareFoundation.Python.3.10_3.10.3056.0_x64__qbz5n2kfra8p0\\lib\\urllib\\request.py:216\u001b[0m, in \u001b[0;36murlopen\u001b[1;34m(url, data, timeout, cafile, capath, cadefault, context)\u001b[0m\n\u001b[0;32m    214\u001b[0m \u001b[39melse\u001b[39;00m:\n\u001b[0;32m    215\u001b[0m     opener \u001b[39m=\u001b[39m _opener\n\u001b[1;32m--> 216\u001b[0m \u001b[39mreturn\u001b[39;00m opener\u001b[39m.\u001b[39;49mopen(url, data, timeout)\n",
      "File \u001b[1;32mC:\\Program Files\\WindowsApps\\PythonSoftwareFoundation.Python.3.10_3.10.3056.0_x64__qbz5n2kfra8p0\\lib\\urllib\\request.py:519\u001b[0m, in \u001b[0;36mOpenerDirector.open\u001b[1;34m(self, fullurl, data, timeout)\u001b[0m\n\u001b[0;32m    516\u001b[0m     req \u001b[39m=\u001b[39m meth(req)\n\u001b[0;32m    518\u001b[0m sys\u001b[39m.\u001b[39maudit(\u001b[39m'\u001b[39m\u001b[39murllib.Request\u001b[39m\u001b[39m'\u001b[39m, req\u001b[39m.\u001b[39mfull_url, req\u001b[39m.\u001b[39mdata, req\u001b[39m.\u001b[39mheaders, req\u001b[39m.\u001b[39mget_method())\n\u001b[1;32m--> 519\u001b[0m response \u001b[39m=\u001b[39m \u001b[39mself\u001b[39;49m\u001b[39m.\u001b[39;49m_open(req, data)\n\u001b[0;32m    521\u001b[0m \u001b[39m# post-process response\u001b[39;00m\n\u001b[0;32m    522\u001b[0m meth_name \u001b[39m=\u001b[39m protocol\u001b[39m+\u001b[39m\u001b[39m\"\u001b[39m\u001b[39m_response\u001b[39m\u001b[39m\"\u001b[39m\n",
      "File \u001b[1;32mC:\\Program Files\\WindowsApps\\PythonSoftwareFoundation.Python.3.10_3.10.3056.0_x64__qbz5n2kfra8p0\\lib\\urllib\\request.py:541\u001b[0m, in \u001b[0;36mOpenerDirector._open\u001b[1;34m(self, req, data)\u001b[0m\n\u001b[0;32m    538\u001b[0m \u001b[39mif\u001b[39;00m result:\n\u001b[0;32m    539\u001b[0m     \u001b[39mreturn\u001b[39;00m result\n\u001b[1;32m--> 541\u001b[0m \u001b[39mreturn\u001b[39;00m \u001b[39mself\u001b[39;49m\u001b[39m.\u001b[39;49m_call_chain(\u001b[39mself\u001b[39;49m\u001b[39m.\u001b[39;49mhandle_open, \u001b[39m'\u001b[39;49m\u001b[39munknown\u001b[39;49m\u001b[39m'\u001b[39;49m,\n\u001b[0;32m    542\u001b[0m                         \u001b[39m'\u001b[39;49m\u001b[39munknown_open\u001b[39;49m\u001b[39m'\u001b[39;49m, req)\n",
      "File \u001b[1;32mC:\\Program Files\\WindowsApps\\PythonSoftwareFoundation.Python.3.10_3.10.3056.0_x64__qbz5n2kfra8p0\\lib\\urllib\\request.py:496\u001b[0m, in \u001b[0;36mOpenerDirector._call_chain\u001b[1;34m(self, chain, kind, meth_name, *args)\u001b[0m\n\u001b[0;32m    494\u001b[0m \u001b[39mfor\u001b[39;00m handler \u001b[39min\u001b[39;00m handlers:\n\u001b[0;32m    495\u001b[0m     func \u001b[39m=\u001b[39m \u001b[39mgetattr\u001b[39m(handler, meth_name)\n\u001b[1;32m--> 496\u001b[0m     result \u001b[39m=\u001b[39m func(\u001b[39m*\u001b[39;49margs)\n\u001b[0;32m    497\u001b[0m     \u001b[39mif\u001b[39;00m result \u001b[39mis\u001b[39;00m \u001b[39mnot\u001b[39;00m \u001b[39mNone\u001b[39;00m:\n\u001b[0;32m    498\u001b[0m         \u001b[39mreturn\u001b[39;00m result\n",
      "File \u001b[1;32mC:\\Program Files\\WindowsApps\\PythonSoftwareFoundation.Python.3.10_3.10.3056.0_x64__qbz5n2kfra8p0\\lib\\urllib\\request.py:1419\u001b[0m, in \u001b[0;36mUnknownHandler.unknown_open\u001b[1;34m(self, req)\u001b[0m\n\u001b[0;32m   1417\u001b[0m \u001b[39mdef\u001b[39;00m \u001b[39munknown_open\u001b[39m(\u001b[39mself\u001b[39m, req):\n\u001b[0;32m   1418\u001b[0m     \u001b[39mtype\u001b[39m \u001b[39m=\u001b[39m req\u001b[39m.\u001b[39mtype\n\u001b[1;32m-> 1419\u001b[0m     \u001b[39mraise\u001b[39;00m URLError(\u001b[39m'\u001b[39m\u001b[39munknown url type: \u001b[39m\u001b[39m%s\u001b[39;00m\u001b[39m'\u001b[39m \u001b[39m%\u001b[39m \u001b[39mtype\u001b[39m)\n",
      "\u001b[1;31mURLError\u001b[0m: <urlopen error unknown url type: blob>"
     ]
    }
   ],
   "source": [
    "# python3\n",
    "import urllib.request as request\n",
    "\n",
    "url = 'blob:https://app.iconosquare.com/62ec5331-2135-4373-8747-e40c910239e3'\n",
    "# fake user agent of Safari\n",
    "fake_useragent = 'Mozilla/5.0 (iPad; CPU OS 6_0 like Mac OS X) AppleWebKit/536.26 (KHTML, like Gecko) Version/6.0 Mobile/10A5355d Safari/8536.25'\n",
    "r = request.Request(url, headers={'User-Agent': fake_useragent})\n",
    "f = request.urlopen(r)\n",
    "\n",
    "# print or write\n",
    "print(f.read())"
   ]
  },
  {
   "cell_type": "code",
   "execution_count": null,
   "metadata": {},
   "outputs": [],
   "source": []
  },
  {
   "cell_type": "code",
   "execution_count": 6,
   "metadata": {},
   "outputs": [],
   "source": [
    "import instaloader\n",
    "\n",
    "\n",
    "# Get instance\n",
    "L = instaloader.Instaloader()\n",
    "USER = \"gda.bot.9@gmail.com\"\n",
    "PASSWORD = \"GdA@Bot92023_2\"\n",
    "# Optionally, login or load session\n",
    "#L.login(USER, PASSWORD)        # (login)\n",
    "#L.interactive_login(USER)      # (ask password on terminal)\n",
    "#L.load_session_from_file(USER) # (load session created w/\n",
    "                               #  `instaloader -l USERNAME`)"
   ]
  },
  {
   "cell_type": "code",
   "execution_count": 7,
   "metadata": {},
   "outputs": [
    {
     "ename": "BadResponseException",
     "evalue": "Fetching Post metadata failed.",
     "output_type": "error",
     "traceback": [
      "\u001b[1;31m---------------------------------------------------------------------------\u001b[0m",
      "\u001b[1;31mBadResponseException\u001b[0m                      Traceback (most recent call last)",
      "Cell \u001b[1;32mIn[7], line 1\u001b[0m\n\u001b[1;32m----> 1\u001b[0m post \u001b[39m=\u001b[39m instaloader\u001b[39m.\u001b[39;49mPost\u001b[39m.\u001b[39;49mfrom_shortcode(L\u001b[39m.\u001b[39;49mcontext, \u001b[39m\"\u001b[39;49m\u001b[39mCr3-851PF5O\u001b[39;49m\u001b[39m\"\u001b[39;49m)\n",
      "File \u001b[1;32mc:\\Users\\pt14\\OneDrive\\Área de Trabalho\\Amom\\9 - Projeto\\Scrape\\env\\lib\\site-packages\\instaloader\\structures.py:88\u001b[0m, in \u001b[0;36mPost.from_shortcode\u001b[1;34m(cls, context, shortcode)\u001b[0m\n\u001b[0;32m     86\u001b[0m \u001b[39m# pylint:disable=protected-access\u001b[39;00m\n\u001b[0;32m     87\u001b[0m post \u001b[39m=\u001b[39m \u001b[39mcls\u001b[39m(context, {\u001b[39m'\u001b[39m\u001b[39mshortcode\u001b[39m\u001b[39m'\u001b[39m: shortcode})\n\u001b[1;32m---> 88\u001b[0m post\u001b[39m.\u001b[39m_node \u001b[39m=\u001b[39m post\u001b[39m.\u001b[39;49m_full_metadata\n\u001b[0;32m     89\u001b[0m \u001b[39mreturn\u001b[39;00m post\n",
      "File \u001b[1;32mc:\\Users\\pt14\\OneDrive\\Área de Trabalho\\Amom\\9 - Projeto\\Scrape\\env\\lib\\site-packages\\instaloader\\structures.py:205\u001b[0m, in \u001b[0;36mPost._full_metadata\u001b[1;34m(self)\u001b[0m\n\u001b[0;32m    203\u001b[0m \u001b[39m@property\u001b[39m\n\u001b[0;32m    204\u001b[0m \u001b[39mdef\u001b[39;00m \u001b[39m_full_metadata\u001b[39m(\u001b[39mself\u001b[39m) \u001b[39m-\u001b[39m\u001b[39m>\u001b[39m Dict[\u001b[39mstr\u001b[39m, Any]:\n\u001b[1;32m--> 205\u001b[0m     \u001b[39mself\u001b[39;49m\u001b[39m.\u001b[39;49m_obtain_metadata()\n\u001b[0;32m    206\u001b[0m     \u001b[39massert\u001b[39;00m \u001b[39mself\u001b[39m\u001b[39m.\u001b[39m_full_metadata_dict \u001b[39mis\u001b[39;00m \u001b[39mnot\u001b[39;00m \u001b[39mNone\u001b[39;00m\n\u001b[0;32m    207\u001b[0m     \u001b[39mreturn\u001b[39;00m \u001b[39mself\u001b[39m\u001b[39m.\u001b[39m_full_metadata_dict\n",
      "File \u001b[1;32mc:\\Users\\pt14\\OneDrive\\Área de Trabalho\\Amom\\9 - Projeto\\Scrape\\env\\lib\\site-packages\\instaloader\\structures.py:198\u001b[0m, in \u001b[0;36mPost._obtain_metadata\u001b[1;34m(self)\u001b[0m\n\u001b[0;32m    196\u001b[0m \u001b[39mself\u001b[39m\u001b[39m.\u001b[39m_full_metadata_dict \u001b[39m=\u001b[39m pic_json[\u001b[39m'\u001b[39m\u001b[39mdata\u001b[39m\u001b[39m'\u001b[39m][\u001b[39m'\u001b[39m\u001b[39mshortcode_media\u001b[39m\u001b[39m'\u001b[39m]\n\u001b[0;32m    197\u001b[0m \u001b[39mif\u001b[39;00m \u001b[39mself\u001b[39m\u001b[39m.\u001b[39m_full_metadata_dict \u001b[39mis\u001b[39;00m \u001b[39mNone\u001b[39;00m:\n\u001b[1;32m--> 198\u001b[0m     \u001b[39mraise\u001b[39;00m BadResponseException(\u001b[39m\"\u001b[39m\u001b[39mFetching Post metadata failed.\u001b[39m\u001b[39m\"\u001b[39m)\n\u001b[0;32m    199\u001b[0m \u001b[39mif\u001b[39;00m \u001b[39mself\u001b[39m\u001b[39m.\u001b[39mshortcode \u001b[39m!=\u001b[39m \u001b[39mself\u001b[39m\u001b[39m.\u001b[39m_full_metadata_dict[\u001b[39m'\u001b[39m\u001b[39mshortcode\u001b[39m\u001b[39m'\u001b[39m]:\n\u001b[0;32m    200\u001b[0m     \u001b[39mself\u001b[39m\u001b[39m.\u001b[39m_node\u001b[39m.\u001b[39mupdate(\u001b[39mself\u001b[39m\u001b[39m.\u001b[39m_full_metadata_dict)\n",
      "\u001b[1;31mBadResponseException\u001b[0m: Fetching Post metadata failed."
     ]
    }
   ],
   "source": [
    "post = instaloader.Post.from_shortcode(L.context, \"Cr3-851PF5O\")"
   ]
  },
  {
   "cell_type": "code",
   "execution_count": null,
   "metadata": {},
   "outputs": [],
   "source": []
  }
 ],
 "metadata": {
  "kernelspec": {
   "display_name": "env",
   "language": "python",
   "name": "python3"
  },
  "language_info": {
   "codemirror_mode": {
    "name": "ipython",
    "version": 3
   },
   "file_extension": ".py",
   "mimetype": "text/x-python",
   "name": "python",
   "nbconvert_exporter": "python",
   "pygments_lexer": "ipython3",
   "version": "3.10.11"
  },
  "orig_nbformat": 4
 },
 "nbformat": 4,
 "nbformat_minor": 2
}
